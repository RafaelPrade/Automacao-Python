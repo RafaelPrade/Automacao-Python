{
 "cells": [
  {
   "attachments": {},
   "cell_type": "markdown",
   "id": "14429667",
   "metadata": {},
   "source": [
    "#### AUTOMAÇÃO DE TAREFAS ###\n",
    "\n",
    "Envio automático de e-mail contento informações de uma planilha baixada diretamente do Google Drive de forma também automática. \n",
    "\n",
    "Feito para qualquer automação em apenas 1 clique para rodar o código.\n",
    "\n",
    "Pode ser utilizado em todas as tarefas diárias que queira automatizar e melhorar sua produtividade.\n",
    "\n",
    "Atentar à pequenas variações do código que possa ocorrer em diferentes tamanhos de telas (monitores/notebooks) e local de disposição dos arquivos."
   ]
  },
  {
   "cell_type": "code",
   "execution_count": null,
   "id": "ad7dbf63",
   "metadata": {
    "scrolled": true
   },
   "outputs": [],
   "source": [
    "!pip install pyautogui"
   ]
  },
  {
   "cell_type": "code",
   "execution_count": null,
   "id": "0bda0eb9",
   "metadata": {},
   "outputs": [],
   "source": [
    "# Pyautogui para operações com mouse e teclado\n",
    "    # pyautogui.click -> para clicar\n",
    "    # pyautogui.write -> para escrever\n",
    "    # pyautogui.press -> para pressionar uma tecla\n",
    "    # pyautogui.hotkey -> para usar atalho no teclado\n",
    "# Pyperclip para utilizar links\n",
    "# Time para adicionar tempo do código"
   ]
  },
  {
   "cell_type": "code",
   "execution_count": null,
   "id": "313063c0",
   "metadata": {},
   "outputs": [],
   "source": [
    "# Importar bibliotecas\n",
    "import pyautogui\n",
    "import pyperclip\n",
    "import time"
   ]
  },
  {
   "cell_type": "code",
   "execution_count": null,
   "id": "ed298c9b",
   "metadata": {},
   "outputs": [],
   "source": [
    "# Para que o programa faça uma pausa (de 1 segundo) a cada código\n",
    "pyautogui.pause = 1"
   ]
  },
  {
   "cell_type": "code",
   "execution_count": null,
   "id": "235a0fd2",
   "metadata": {},
   "outputs": [],
   "source": [
    "# Baixar planilha do Google Drive ou qualquer outro diretório\n",
    "pyautogui.hotkey(\"ctrl\", \"t\")\n",
    "time.sleep(2)\n",
    "pyautogui.click(x=1870, y=177, clicks=1)\n",
    "time.sleep(2)\n",
    "pyautogui.click(x=1688, y=655, clicks=1)\n",
    "time.sleep(2)\n",
    "pyautogui.click(x=1796, y=669, clicks=1)\n",
    "time.sleep(2)"
   ]
  },
  {
   "cell_type": "code",
   "execution_count": null,
   "id": "fe5bc41e",
   "metadata": {},
   "outputs": [],
   "source": [
    "# Visualizar tabela e dados\n",
    "import pandas\n",
    "tabela = pandas.read_excel(r\"C:\\Users\\rbpna\\Downloads\\Vendas.xlsx\")\n",
    "faturamento = tabela[\"Valor Final\"].sum()\n",
    "quantidade = tabela[\"Quantidade\"].sum()"
   ]
  },
  {
   "cell_type": "code",
   "execution_count": null,
   "id": "d46c4df4",
   "metadata": {},
   "outputs": [],
   "source": [
    "# Enviar e-mail com informações da planilha\n",
    "pyautogui.hotkey(\"ctrl\", \"t\")\n",
    "pyperclip.copy(\"https://mail.google.com/mail/u/0/#inbox\")\n",
    "pyautogui.hotkey(\"ctrl\", \"v\")\n",
    "pyautogui.press(\"enter\")\n",
    "time.sleep(3)\n",
    "pyautogui.click(x=94, y=239, clicks=1)\n",
    "time.sleep(1)\n",
    "pyautogui.write(\"rbprade@gmail.com\")\n",
    "time.sleep(1)\n",
    "pyautogui.press(\"tab\")\n",
    "pyautogui.press(\"tab\")\n",
    "time.sleep(1)\n",
    "pyperclip.copy(\"Vendas Diárias\")\n",
    "pyautogui.hotkey(\"ctrl\", \"v\")\n",
    "time.sleep(1)\n",
    "pyautogui.press(\"tab\")\n",
    "time.sleep(1)\n",
    "\n",
    "texto = f\"\"\"\n",
    "Prezados, bom dia!\n",
    "\n",
    "O faturamento de ontem foi de: R$ {faturamento:,.2f}\n",
    "A quantidade de produtos vendidos foi de: {quantidade:,} unidades\n",
    "\n",
    "Qualquer dúvida, estou à disposição.\n",
    "\n",
    "\"\"\"\n",
    "\n",
    "pyperclip.copy(texto)\n",
    "pyautogui.hotkey(\"ctrl\", \"v\")\n",
    "pyautogui.hotkey(\"ctrl\", \"enter\")"
   ]
  },
  {
   "cell_type": "code",
   "execution_count": null,
   "id": "97ad0322",
   "metadata": {},
   "outputs": [],
   "source": [
    "# Pausa de 5 segundos para pegar a posição do mouse onde irá clicar (feito durante o código)\n",
    "time.sleep(5)\n",
    "print(pyautogui.position())"
   ]
  }
 ],
 "metadata": {
  "kernelspec": {
   "display_name": "Python 3 (ipykernel)",
   "language": "python",
   "name": "python3"
  },
  "language_info": {
   "codemirror_mode": {
    "name": "ipython",
    "version": 3
   },
   "file_extension": ".py",
   "mimetype": "text/x-python",
   "name": "python",
   "nbconvert_exporter": "python",
   "pygments_lexer": "ipython3",
   "version": "3.9.13"
  }
 },
 "nbformat": 4,
 "nbformat_minor": 5
}
